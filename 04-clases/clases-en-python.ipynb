{
 "cells": [
  {
   "cell_type": "code",
   "execution_count": 17,
   "metadata": {},
   "outputs": [
    {
     "name": "stdout",
     "output_type": "stream",
     "text": [
      "Emepso el contructor\n",
      "Azul...\n",
      "None\n",
      "carrito\n",
      "515\n",
      "Color: carrito\n",
      "Chasis: 515\n"
     ]
    }
   ],
   "source": [
    "## Clasess\n",
    "class Nada: \n",
    "    pass\n",
    "\n",
    "una_nada = Nada()\n",
    "# print(una_nada)\n",
    "# print(type una_nada)\n",
    "\n",
    "class Auto:\n",
    "    color = \"Azul...\"\n",
    "    color2 = None\n",
    "    __numero_chasis = 515       # variable provada con 2 _\n",
    "\n",
    "    def __init__(self, color3):  # self = this en POO\n",
    "        print(\"Emepso el contructor\")\n",
    "        print(self.color)\n",
    "        print(self.color2)\n",
    "        self.color = color3\n",
    "        \n",
    "        \n",
    "    def __str__(self):\n",
    "        return f\"Color: {self.color}\\nChasis: {self.__numero_chasis}\"\n",
    "    \n",
    "    \n",
    "    def numero_chasis_impuesto(self):\n",
    "        return self.__numero_chasis\n",
    "    \n",
    "    def __calcular_impuesto():\n",
    "        return 14 * self.numero_chasis\n",
    "\n",
    "nuevo_auto = Auto(\"carrito\")\n",
    "print(nuevo_auto.color)\n",
    "print(nuevo_auto._Auto__numero_chasis)   # acceder a variables privadas\n",
    "print(nuevo_auto)"
   ]
  },
  {
   "cell_type": "code",
   "execution_count": 22,
   "metadata": {},
   "outputs": [],
   "source": [
    "class BMW(Auto): # herencia\n",
    "    def __init__(self, color):\n",
    "        print(\"inicializando bmw\")\n",
    "        super().__init__(color)"
   ]
  },
  {
   "cell_type": "code",
   "execution_count": 25,
   "metadata": {},
   "outputs": [
    {
     "name": "stdout",
     "output_type": "stream",
     "text": [
      "inicializando bmw\n",
      "Emepso el contructor\n",
      "Azul...\n",
      "None\n",
      "Color: Blanco\n",
      "Chasis: 515\n"
     ]
    }
   ],
   "source": [
    "carrito = BMW(\"Blanco\")\n",
    "print(carrito)"
   ]
  },
  {
   "cell_type": "code",
   "execution_count": 41,
   "metadata": {
    "scrolled": true
   },
   "outputs": [
    {
     "name": "stdout",
     "output_type": "stream",
     "text": [
      "8\n"
     ]
    }
   ],
   "source": [
    "# Funciones dentro de Funciones\n",
    "def calculadora(num_uno, num_dos, operacion = \"suma\"):\n",
    "    def suma():\n",
    "        return num_uno + num_dos\n",
    "    def resta():\n",
    "        return num_uno - num_dos\n",
    "    def multiplicacion():\n",
    "        return num_uno * num_dos\n",
    "    def division():\n",
    "        return num_uno / num_dos\n",
    "    def opcion_seleccionada():\n",
    "        return {\n",
    "            'suma': suma(),\n",
    "            'resta': resta(),\n",
    "            'multiplicacion': multiplicacion(),\n",
    "            'division': division()\n",
    "        }[operacion]\n",
    "        \"\"\"\n",
    "        opciones = {\n",
    "            'suma': suma(),\n",
    "            'resta': resta(),\n",
    "            'multiplicacion': multiplicacion(),\n",
    "            'division': division()\n",
    "        }\n",
    "        return opciones[operacion]\n",
    "        \"\"\"\n",
    "    return opcion_seleccionada()\n",
    "\n",
    "print(calculadora(4,2, \"multiplicacion\"))"
   ]
  },
  {
   "cell_type": "code",
   "execution_count": null,
   "metadata": {},
   "outputs": [],
   "source": [
    "input(\"dime tu edad\")"
   ]
  },
  {
   "cell_type": "code",
   "execution_count": null,
   "metadata": {},
   "outputs": [],
   "source": [
    "# Programa de papas e hijos "
   ]
  },
  {
   "cell_type": "code",
   "execution_count": null,
   "metadata": {},
   "outputs": [],
   "source": []
  }
 ],
 "metadata": {
  "kernelspec": {
   "display_name": "Python 3",
   "language": "python",
   "name": "python3"
  },
  "language_info": {
   "codemirror_mode": {
    "name": "ipython",
    "version": 3
   },
   "file_extension": ".py",
   "mimetype": "text/x-python",
   "name": "python",
   "nbconvert_exporter": "python",
   "pygments_lexer": "ipython3",
   "version": "3.7.4"
  }
 },
 "nbformat": 4,
 "nbformat_minor": 2
}
