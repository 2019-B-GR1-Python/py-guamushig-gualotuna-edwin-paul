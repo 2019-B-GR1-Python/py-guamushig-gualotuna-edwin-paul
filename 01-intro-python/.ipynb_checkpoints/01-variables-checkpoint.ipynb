{
 "cells": [
  {
   "cell_type": "code",
   "execution_count": 2,
   "metadata": {},
   "outputs": [
    {
     "name": "stdout",
     "output_type": "stream",
     "text": [
      "Hola mundo\n"
     ]
    }
   ],
   "source": [
    "print (\"Hola mundo\")"
   ]
  },
  {
   "cell_type": "code",
   "execution_count": 4,
   "metadata": {},
   "outputs": [
    {
     "name": "stdout",
     "output_type": "stream",
     "text": [
      "<class 'int'>\n",
      "<class 'float'>\n",
      "<class 'str'>\n",
      "<class 'str'>\n",
      "<class 'bool'>\n",
      "<class 'NoneType'>\n"
     ]
    }
   ],
   "source": [
    "## Variables Primitivas\n",
    "entero = 3\n",
    "decimal = 1.1\n",
    "nombre = \"Edwin\"\n",
    "segundo_nombre = 'Paul'\n",
    "casado = False\n",
    "hijos = None\n",
    "\n",
    "print(type(entero))  # int\n",
    "print(type(decimal))  # float\n",
    "print(type(nombre))  # str\n",
    "print(type(segundo_nombre))  # str\n",
    "print(type(casado)) #  bool\n",
    "print(type(hijos))  #NoneType\n",
    "\n",
    "\n",
    "texto_comentario = \"\"\"\n",
    "Bloque de comentarios.\n",
    "\"\"\""
   ]
  },
  {
   "cell_type": "code",
   "execution_count": 7,
   "metadata": {},
   "outputs": [
    {
     "name": "stdout",
     "output_type": "stream",
     "text": [
      "Edwin\n",
      "Edwin\n"
     ]
    }
   ],
   "source": [
    "print(entero)\n",
    "entero = decimal\n",
    "entero = nombre\n",
    "print(entero)"
   ]
  },
  {
   "cell_type": "code",
   "execution_count": 26,
   "metadata": {},
   "outputs": [
    {
     "name": "stdout",
     "output_type": "stream",
     "text": [
      "<class 'tuple'>\n",
      "<class 'list'>\n",
      "<class 'dict'>\n",
      "Falsy\n",
      "Truty\n",
      "Falsy\n",
      "Truty\n",
      "Truty\n",
      "Falsy\n",
      "Truty\n",
      "Falsy\n",
      "Falsy\n",
      "Truty\n",
      "Falsy\n",
      "Truty\n",
      "Falsy\n",
      "Truty\n"
     ]
    }
   ],
   "source": [
    "# Condicion (Boolean)\n",
    "# Valores Truty\n",
    "# Valores Falsy\n",
    "\n",
    "tuplas = ()\n",
    "listas = []\n",
    "diccionario = {}\n",
    "\n",
    "print(type(tuplas))  # tuple\n",
    "print(type(listas))  # list\n",
    "print(type(diccionario))  # dict\n",
    "\n",
    "\n",
    "if(\"\"):  # Falsy\n",
    "    print(\"Truty\")\n",
    "else:\n",
    "    print(\"Falsy\")\n",
    "    \n",
    "    \n",
    "if(\"a\"): # Truty\n",
    "    print(\"Truty\")\n",
    "else:\n",
    "    print(\"Falsy\")    \n",
    "\n",
    "    \n",
    "if(0): # Falsy\n",
    "    print(\"Truty\")\n",
    "else:\n",
    "    print(\"Falsy\")\n",
    "    \n",
    "    \n",
    "if(-1): # Truty\n",
    "    print(\"Truty\")\n",
    "else:\n",
    "    print(\"Falsy\")\n",
    "    \n",
    "    \n",
    "if(1): # Truty\n",
    "    print(\"Truty\")\n",
    "else:\n",
    "    print(\"Falsy\")\n",
    "    \n",
    "    \n",
    "if(0.00): # Falsy\n",
    "    print(\"Truty\")\n",
    "else:\n",
    "    print(\"Falsy\")\n",
    "    \n",
    "    \n",
    "if(0.01): # Truty\n",
    "    print(\"Truty\")\n",
    "else:\n",
    "    print(\"Falsy\")\n",
    "    \n",
    "    \n",
    "if(None): # Falsy\n",
    "    print(\"Truty\")\n",
    "else:\n",
    "    print(\"Falsy\")\n",
    "    \n",
    "    \n",
    "if(()): # Falsy\n",
    "    print(\"Truty\")\n",
    "else:\n",
    "    print(\"Falsy\")\n",
    "    \n",
    "    \n",
    "if((1,2)): # Truty\n",
    "    print(\"Truty\")\n",
    "else:\n",
    "    print(\"Falsy\")\n",
    "    \n",
    "    \n",
    "if([]): # Falsy\n",
    "    print(\"Truty\")\n",
    "else:\n",
    "    print(\"Falsy\")\n",
    "    \n",
    "    \n",
    "if([\"e\", \"p\"]): # Truty\n",
    "    print(\"Truty\")\n",
    "else:\n",
    "    print(\"Falsy\")\n",
    "    \n",
    "        \n",
    "if({}): # Falsy\n",
    "    print(\"Truty\")\n",
    "else:\n",
    "    print(\"Falsy\")\n",
    "    \n",
    "    \n",
    "if({nombre: \"edwin\"}): # Truty\n",
    "    print(\"Truty\")\n",
    "else:\n",
    "    print(\"Falsy\")"
   ]
  },
  {
   "cell_type": "code",
   "execution_count": 38,
   "metadata": {},
   "outputs": [
    {
     "data": {
      "text/plain": [
       "[1, 2, 3, 4, 5, 6, 7, 8, 9, 10]"
      ]
     },
     "execution_count": 38,
     "metadata": {},
     "output_type": "execute_result"
    }
   ],
   "source": [
    "arreglo = [1, 2, 3, 4, 5, 6, 7, 8, 9, 10]\n",
    "\n",
    "arreglo[2:5]  # Filtrat ([2,5[)\n",
    "arreglo[2:]\n",
    "arreglo[:7]\n",
    "arreglo[-1]\n",
    "arreglo[2:-1]  # Filtrar ([2, -1[)\n",
    "arreglo[-8:-1]\n",
    "arreglo[:-2]\n",
    "arreglo[-9:]\n",
    "arreglo[:]"
   ]
  },
  {
   "cell_type": "code",
   "execution_count": 40,
   "metadata": {},
   "outputs": [
    {
     "name": "stdout",
     "output_type": "stream",
     "text": [
      "<class 'bool'>\n",
      "False\n"
     ]
    }
   ],
   "source": [
    "# Buscar en arreglos\n",
    "print(type(7 in arreglo))\n",
    "print(17 in arreglo)"
   ]
  },
  {
   "cell_type": "code",
   "execution_count": 41,
   "metadata": {},
   "outputs": [
    {
     "data": {
      "text/plain": [
       "10"
      ]
     },
     "execution_count": 41,
     "metadata": {},
     "output_type": "execute_result"
    }
   ],
   "source": [
    "# Longitud\n",
    "len(arreglo) # 10"
   ]
  },
  {
   "cell_type": "code",
   "execution_count": 47,
   "metadata": {},
   "outputs": [
    {
     "data": {
      "text/plain": [
       "[1, 1.1, 2, 3, 4, 5, 6, 7, 8, 9]"
      ]
     },
     "execution_count": 47,
     "metadata": {},
     "output_type": "execute_result"
    }
   ],
   "source": [
    "# Agregar o eliminar elemento en el arreglo\n",
    "# arreglo.append(11)\n",
    "# print(arreglo)\n",
    "# arreglo.pop()\n",
    "\n",
    "arreglo.insert(1, 1.1)\n",
    "arreglo"
   ]
  },
  {
   "cell_type": "code",
   "execution_count": 60,
   "metadata": {},
   "outputs": [
    {
     "name": "stdout",
     "output_type": "stream",
     "text": [
      "1\n",
      "1.1\n",
      "2\n",
      "3\n",
      "4\n",
      "5\n",
      "6\n",
      "7\n",
      "8\n",
      "9\n",
      "0\n",
      "1\n",
      "2\n",
      "3\n",
      "4\n",
      "5\n",
      "6\n",
      "7\n",
      "8\n",
      "9\n"
     ]
    }
   ],
   "source": [
    "# Recorrer arreglos\n",
    "\n",
    "for numero in arreglo:\n",
    "    print(numero)\n",
    "    \n",
    "\n",
    "contador = 0\n",
    "while contador < 10:\n",
    "    print(contador)\n",
    "    contador+=1"
   ]
  },
  {
   "cell_type": "code",
   "execution_count": 65,
   "metadata": {},
   "outputs": [
    {
     "data": {
      "text/plain": [
       "True"
      ]
     },
     "execution_count": 65,
     "metadata": {},
     "output_type": "execute_result"
    }
   ],
   "source": [
    "# Tuplas\n",
    "\n",
    "tupla_de_numeros = (1, 2, 3, 4, 5)\n",
    "tupla_de_numeros[1:3]\n",
    "len(tupla_de_numeros)\n",
    "3 in tupla_de_numeros"
   ]
  },
  {
   "cell_type": "code",
   "execution_count": 83,
   "metadata": {},
   "outputs": [
    {
     "data": {
      "text/plain": [
       "False"
      ]
     },
     "execution_count": 83,
     "metadata": {},
     "output_type": "execute_result"
    }
   ],
   "source": [
    "# Diccionarios\n",
    "\n",
    "edwin = {\n",
    "    'nombre': \"Edwin\",\n",
    "    \"apellido\": 'Guamushig',\n",
    "    'edad': 22,\n",
    "    'sueldo': 0,\n",
    "    'hijos': None,\n",
    "    'casado': False,\n",
    "    'mascota': [\n",
    "        {\n",
    "            'nombre': 'peluso'\n",
    "        }\n",
    "    ]\n",
    "}\n",
    "\n",
    "edwin['apellido'] = \"Gualotunia\"\n",
    "edwin.keys()\n",
    "\"apellido\" in edwin.keys()\n",
    "\"apellido\" in edwin.values()"
   ]
  },
  {
   "cell_type": "code",
   "execution_count": null,
   "metadata": {},
   "outputs": [],
   "source": [
    "# Condiciones\n",
    "\n",
    "1 == 1 or 2 == 3  # True\n",
    "1 == 1 and 2 == 3  # False"
   ]
  },
  {
   "cell_type": "code",
   "execution_count": null,
   "metadata": {},
   "outputs": [],
   "source": []
  }
 ],
 "metadata": {
  "kernelspec": {
   "display_name": "Python 3",
   "language": "python",
   "name": "python3"
  },
  "language_info": {
   "codemirror_mode": {
    "name": "ipython",
    "version": 3
   },
   "file_extension": ".py",
   "mimetype": "text/x-python",
   "name": "python",
   "nbconvert_exporter": "python",
   "pygments_lexer": "ipython3",
   "version": "3.7.3"
  }
 },
 "nbformat": 4,
 "nbformat_minor": 2
}
