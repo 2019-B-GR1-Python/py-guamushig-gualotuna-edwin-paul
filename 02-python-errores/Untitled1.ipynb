{
 "cells": [
  {
   "cell_type": "code",
   "execution_count": 1,
   "metadata": {},
   "outputs": [
    {
     "name": "stdout",
     "output_type": "stream",
     "text": [
      "Hola Python\n"
     ]
    }
   ],
   "source": [
    "# Funciones\n",
    "# una funcion que no retorna nada devuelve None\n",
    "\n",
    "\n",
    "def hola_mundo(): # None\n",
    "    print(\"Hola Python\")\n",
    "\n",
    "hola_mundo()"
   ]
  },
  {
   "cell_type": "code",
   "execution_count": 5,
   "metadata": {},
   "outputs": [
    {
     "name": "stdout",
     "output_type": "stream",
     "text": [
      "suma 15\n"
     ]
    }
   ],
   "source": [
    "# Parametros\n",
    "\n",
    "def sumar_dos_numeros(numero_uno, numero_dos):\n",
    "    return numero_uno + numero_dos\n",
    "\n",
    "suma = sumar_dos_numeros(6, 9)\n",
    "print(f\"suma {suma}\")   # template string"
   ]
  },
  {
   "cell_type": "code",
   "execution_count": 6,
   "metadata": {},
   "outputs": [
    {
     "name": "stdout",
     "output_type": "stream",
     "text": [
      "EPN\n"
     ]
    }
   ],
   "source": [
    "def imprimir_universidad(nombre = 'EPN'):\n",
    "    print(f\"{nombre}\")\n",
    "\n",
    "imprimir_universidad()"
   ]
  },
  {
   "cell_type": "code",
   "execution_count": 11,
   "metadata": {},
   "outputs": [
    {
     "name": "stdout",
     "output_type": "stream",
     "text": [
      "Color: Rojo\n",
      "Placa: POL-0330\n",
      "Caballos de fuerza: 2500\n",
      "Anio: 2006\n",
      "Color: Negro\n",
      "Placa: PPV-0046\n",
      "Caballos de fuerza: 3500\n",
      "Anio: 2012\n",
      "Color: Verde\n",
      "Placa: asd-232\n",
      "Caballos de fuerza: 1000\n",
      "Anio: 2018\n"
     ]
    }
   ],
   "source": [
    "def imprimir_carro(color, placa, hp, anio):\n",
    "    print(f\"Color: {color}\")\n",
    "    print(f\"Placa: {placa}\")\n",
    "    print(f\"Caballos de fuerza: {hp}\")\n",
    "    print(f\"Anio: {anio}\")\n",
    "    \n",
    "imprimir_carro(\"Rojo\", \"POL-0330\", 2500, 2006)\n",
    "\n",
    "imprimir_carro(anio = 2012,\n",
    "              color = \"Negro\",\n",
    "              placa = \"PPV-0046\",\n",
    "              hp = 3500)\n",
    "\n",
    "# Named parameters\n",
    "imprimir_carro(\"Verde\", \"asd-232\", anio = 2018, hp = 1000)"
   ]
  },
  {
   "cell_type": "code",
   "execution_count": 12,
   "metadata": {},
   "outputs": [],
   "source": [
    "# Regla: \n",
    "# 1. Los parametros requeridos, luego opcionales\n",
    "# 2. enviar siempre parametros requeridos\n",
    "# 3. Si ya se envia un parametro nombrado, los parametros que falten\n",
    "#    enviarse vana a tener que ser requeridos."
   ]
  },
  {
   "cell_type": "code",
   "execution_count": 14,
   "metadata": {},
   "outputs": [
    {
     "name": "stdout",
     "output_type": "stream",
     "text": [
      "<class 'dict'>\n",
      "{}\n"
     ]
    }
   ],
   "source": [
    "def imprimir_configuraciones(nombre,\n",
    "                            valor =10,\n",
    "                            *valores_carga,\n",
    "                            **key_word_arguments):\n",
    "    print(type(key_word_arguments))\n",
    "    print(key_word_arguments)\n",
    "\n",
    "imprimir_configuraciones(\"config_1\",\n",
    "                     20,\n",
    "                     30,\n",
    "                     40,\n",
    "                     5,\n",
    "                     0)"
   ]
  },
  {
   "cell_type": "code",
   "execution_count": 15,
   "metadata": {},
   "outputs": [],
   "source": [
    "# Leer archivos txt\n",
    "\n"
   ]
  },
  {
   "cell_type": "code",
   "execution_count": 27,
   "metadata": {},
   "outputs": [
    {
     "name": "stdout",
     "output_type": "stream",
     "text": [
      "['hola que hace\\n', 'nada papu\\n', 'hola a todos\\n', 'linea ultima\\n']\n"
     ]
    }
   ],
   "source": [
    "try:\n",
    "    path = \"./archivo.txt\"\n",
    "    archivo_abierto = open(path)\n",
    "    \n",
    "   # linea_uno = archivo_abierto.readline()\n",
    "   # print (f\"L1: {linea_uno}\")\n",
    "   # linea_dos = archivo_abierto.readline()\n",
    "   # print (f\"L1: {linea_dos}\")\n",
    "   # linea_tres = archivo_abierto.readline()\n",
    "   # print (f\"L1: {linea_tres}\")\n",
    "   # linea_cuatro = archivo_abierto.readline()\n",
    "   # print (f\"L1: {linea_cuatro}\")\n",
    "   # linea_cinco = archivo_abierto.readline()\n",
    "   # print (f\"L1: {linea_cinco}\")\n",
    "\n",
    "    lineas = archivo_abierto.readlines()\n",
    "    print (lineas)\n",
    "    archivo_abierto.close()\n",
    "    \n",
    "except Exception as error:\n",
    "    print(error)"
   ]
  },
  {
   "cell_type": "code",
   "execution_count": null,
   "metadata": {},
   "outputs": [],
   "source": []
  }
 ],
 "metadata": {
  "kernelspec": {
   "display_name": "Python 3",
   "language": "python",
   "name": "python3"
  },
  "language_info": {
   "codemirror_mode": {
    "name": "ipython",
    "version": 3
   },
   "file_extension": ".py",
   "mimetype": "text/x-python",
   "name": "python",
   "nbconvert_exporter": "python",
   "pygments_lexer": "ipython3",
   "version": "3.7.4"
  }
 },
 "nbformat": 4,
 "nbformat_minor": 2
}
